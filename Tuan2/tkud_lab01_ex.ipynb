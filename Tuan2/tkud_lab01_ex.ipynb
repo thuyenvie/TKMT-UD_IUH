{
 "cells": [
  {
   "cell_type": "markdown",
   "metadata": {
    "id": "Cj3g7_Xjv0cQ"
   },
   "source": [
    "# Lab 01 - Bài tập"
   ]
  },
  {
   "cell_type": "markdown",
   "metadata": {
    "id": "uHya_O8Nv9Bg"
   },
   "source": [
    "## PYTHON\n"
   ]
  },
  {
   "cell_type": "markdown",
   "metadata": {},
   "source": [
    "1. Viết chương trình nhập vào số nguyên n (n>0). In ra các số nguyên tố từ 1..n\n"
   ]
  },
  {
   "cell_type": "code",
   "execution_count": 4,
   "metadata": {
    "id": "AnQZ06Hxxwlo"
   },
   "outputs": [
    {
     "name": "stdout",
     "output_type": "stream",
     "text": [
      "2 3 5 "
     ]
    }
   ],
   "source": [
    "def is_prime(num):\n",
    "    if num <= 1:\n",
    "        return False\n",
    "    for i in range(2, int(num**0.5) + 1):\n",
    "        if num % i == 0:\n",
    "            return False\n",
    "    return True\n",
    "\n",
    "def print_primes(n):\n",
    "    for i in range(2, n + 1):\n",
    "        if is_prime(i):\n",
    "            print(i, end=\" \")\n",
    "\n",
    "n = int(input(\"Enter n: \"))\n",
    "print_primes(n)"
   ]
  },
  {
   "cell_type": "markdown",
   "metadata": {
    "id": "XpmGHRLRxx34"
   },
   "source": [
    "2. Viết chương trình nhập vào số nguyên n có 3 chữ số. Tính tổng các chữ số của n"
   ]
  },
  {
   "cell_type": "code",
   "execution_count": 5,
   "metadata": {
    "id": "AXOFJ9Iwvtvh"
   },
   "outputs": [
    {
     "name": "stdout",
     "output_type": "stream",
     "text": [
      "6\n"
     ]
    }
   ],
   "source": [
    "n = int(input(\"Enter n: \"))\n",
    "total = (n // 100) + ((n // 10) % 10) + (n % 10)\n",
    "print(total)"
   ]
  },
  {
   "cell_type": "markdown",
   "metadata": {
    "id": "oba6gvmwyFrZ"
   },
   "source": [
    "3. Viết chương trình nhập vào một dãy các số nguyên được cách nhau bởi khoảng trắng (VD: 32 8 4 6 9...) lưu vào python ở dạng mảng. Thực hiện\n",
    "\n",
    "- Xuất mảng\n",
    "- Tính tổng các phần tử của mảng\n",
    "- Tìm số lớn nhất\n",
    "- Tìm số bé nhất\n",
    "- Sắp xếp mảng theo thứ tự giảm dần\n",
    "- In ra các số chẵn trong mảng"
   ]
  },
  {
   "cell_type": "code",
   "execution_count": 3,
   "metadata": {
    "id": "9XBwANmGyFyY"
   },
   "outputs": [
    {
     "name": "stdout",
     "output_type": "stream",
     "text": [
      "Mảng đã nhập: [1, 2, 3]\n",
      "Tổng các phần tử của mảng: 6\n"
     ]
    }
   ],
   "source": [
    "input_string = input(\"Nhập vào dãy các số nguyên cách nhau bởi khoảng trắng: \")\n",
    "\n",
    "# Chuyển đổi chuỗi nhập vào thành mảng các số nguyên\n",
    "array = list(map(int, input_string.split()))\n",
    "\n",
    "# Xuất mảng\n",
    "print(\"Mảng đã nhập:\", array)\n",
    "\n",
    "# Tính tổng các phần tử của mảng\n",
    "total_sum = sum(array)\n",
    "print(\"Tổng các phần tử của mảng:\", total_sum)\n",
    "\n",
    "# # Tìm số lớn nhất\n",
    "# max_value = max(array)\n",
    "# print(\"Số lớn nhất trong mảng:\", max_value)\n",
    "\n",
    "# # Tìm số bé nhất\n",
    "# min_value = min(array)\n",
    "# print(\"Số bé nhất trong mảng:\", min_value)\n",
    "\n",
    "# # Sắp xếp mảng theo thứ tự giảm dần\n",
    "# sorted_array = sorted(array, reverse=True)\n",
    "# print(\"Mảng sau khi sắp xếp theo thứ tự giảm dần:\", sorted_array)\n",
    "\n",
    "# # In ra các số chẵn trong mảng\n",
    "# even_numbers = [num for num in array if num % 2 == 0]\n",
    "# print(\"Các số chẵn trong mảng:\", even_numbers)\n"
   ]
  },
  {
   "cell_type": "markdown",
   "metadata": {
    "id": "hgGOt_Cxyulx"
   },
   "source": [
    "4. Viết chương trình yêu cầu người dùng nhập họ tên. Hiển thị tên người dùng sau khi đã chuẩn hóa. Biết rằng tên đã chuẩn hóa là:\n",
    "- Ký tự đầu viết hoa\n",
    "- Không có khoảng trắng thừa\n",
    "- Không có ký tự đặc biệt"
   ]
  },
  {
   "cell_type": "code",
   "execution_count": null,
   "metadata": {
    "id": "duR4BF8Dyu_w"
   },
   "outputs": [],
   "source": [
    "import re\n",
    "\n",
    "full_name = input(\"Nhập họ tên của bạn: \")\n",
    "\n",
    "# Loại bỏ các ký tự đặc biệt và khoảng trắng thừa\n",
    "cleaned_name = re.sub(r'[^a-zA-Z\\s]', '', full_name).strip()\n",
    "\n",
    "# Chuẩn hóa tên: Ký tự đầu viết hoa, các ký tự khác viết thường\n",
    "normalized_name = ' '.join(word.capitalize() for word in cleaned_name.split())\n",
    "\n",
    "# Hiển thị tên đã chuẩn hóa\n",
    "print(\"Tên đã chuẩn hóa:\", normalized_name)\n"
   ]
  },
  {
   "cell_type": "markdown",
   "metadata": {
    "id": "W5KucasA0NSA"
   },
   "source": [
    "5. Viết chương trình nhập vào một số nguyên dương (n>0). Cho biết n có phải là số đối xứng hay không? Biết số đối xứng là số viết xuôi hay viết ngược đều như nhau"
   ]
  },
  {
   "cell_type": "code",
   "execution_count": null,
   "metadata": {
    "id": "FTH5V3je0YPg"
   },
   "outputs": [],
   "source": [
    "n = int(input(\"Nhập vào số nguyên dương n (n > 0): \"))\n",
    "n_str = str(n)\n",
    "if n_str == n_str[::-1]:\n",
    "    print(f\"{n} là số đối xứng.\")\n",
    "else:\n",
    "    print(f\"{n} không phải là số đối xứng.\")"
   ]
  },
  {
   "cell_type": "markdown",
   "metadata": {},
   "source": [
    "6. Với số nguyên n nhất định, hãy viết chương trình hiển thị dictionary chứa các cặp (i, i*i) ; biết i có giá trị từ 1..n\n"
   ]
  },
  {
   "cell_type": "code",
   "execution_count": null,
   "metadata": {},
   "outputs": [],
   "source": [
    "n = int(input(\"Nhập vào số nguyên n: \"))\n",
    "\n",
    "# Tạo dictionary chứa các cặp (i, i*i)\n",
    "result = {i: i*i for i in range(1, n + 1)}\n",
    "\n",
    "print(\"Dictionary chứa các cặp (i, i*i):\")\n",
    "print(result)\n"
   ]
  },
  {
   "cell_type": "markdown",
   "metadata": {},
   "source": [
    "7. Viết chương trình tìm tất cả các số chia hết cho 7 nhưng không phải bội số của 5, nằm trong đoạn 2000 và 3200 (tính cả 2000 và 3200). Các số thu được sẽ được in thành chuỗi trên một dòng, cách nhau bằng dấu phẩy"
   ]
  },
  {
   "cell_type": "code",
   "execution_count": null,
   "metadata": {},
   "outputs": [],
   "source": [
    "# Tạo danh sách chứa các số thỏa mãn điều kiện\n",
    "numbers = [str(i) for i in range(2000, 3201) if i % 7 == 0 and i % 5 != 0]\n",
    "\n",
    "# In các số thành chuỗi, cách nhau bằng dấu phẩy\n",
    "result = \", \".join(numbers)\n",
    "print(result)\n"
   ]
  },
  {
   "cell_type": "markdown",
   "metadata": {},
   "source": [
    "8. Viết chương trình chấp nhận một chuỗi số, phân tách bằng dấu phẩy từ giao diện điều khiển, tạo ra một List và một tuple chứa mọi số.\n",
    "\n",
    "    Ví dụ:\n",
    "\n",
    "    ```\n",
    "    Đầu vào được cung cấp là '34,67,55,33,12,98' thì đầu ra là:\n",
    "\n",
    "    [34, 67, 55, 33, 12, 98]\n",
    "    (34, 67, 55, 33, 12, 98)\n",
    "    ```\n"
   ]
  },
  {
   "cell_type": "code",
   "execution_count": null,
   "metadata": {},
   "outputs": [],
   "source": [
    "# Nhập vào chuỗi số phân tách bằng dấu phẩy\n",
    "input_string = input(\"Nhập vào chuỗi số phân tách bằng dấu phẩy: \")\n",
    "\n",
    "# Chuyển đổi chuỗi thành danh sách các số nguyên\n",
    "numbers_list = list(map(int, input_string.split(',')))\n",
    "\n",
    "# Chuyển đổi danh sách thành tuple\n",
    "numbers_tuple = tuple(numbers_list)\n",
    "\n",
    "# Hiển thị danh sách và tuple\n",
    "print(\"Danh sách:\", numbers_list)\n",
    "print(\"Tuple:\", numbers_tuple)\n"
   ]
  },
  {
   "cell_type": "markdown",
   "metadata": {},
   "source": [
    "9. Viết hàm nhận vào một danh sách các số nguyên. Hãy viết hàm trả về một danh sách gồm các số không trùng nhau trong danh sách ban đầu"
   ]
  },
  {
   "cell_type": "code",
   "execution_count": null,
   "metadata": {},
   "outputs": [],
   "source": [
    "input_string = input(\"Nhập vào danh sách các số nguyên, phân tách bằng dấu cách: \")\n",
    "numbers = list(map(int, input_string.split()))\n",
    "\n",
    "# Tạo danh sách các số không trùng nhau\n",
    "unique_numbers = list(set(numbers))\n",
    "\n",
    "print(\"Danh sách ban đầu:\", numbers)\n",
    "print(\"Danh sách các số không trùng nhau:\", unique_numbers)\n"
   ]
  },
  {
   "cell_type": "markdown",
   "metadata": {},
   "source": [
    "10. Viết hàm có tham số đầu vào là một list L có các phần tử là chuỗi. Hãy tạo ra một dictionary D mã hóa, với mỗi một phần tử trong L được mã hóa thành một con số (theo thứ tự từ 0 tăng dần lên 1 đơn vị). Sau đó trả về list đã được mã hóa\n",
    "\n",
    "    Ví dụ:\n",
    "\n",
    "    ```\n",
    "    Cho L = [\"đen\",\"vàng\",\"xanh\",\"vàng\",\"xanh\",\"đỏ\",\"hồng\"]\n",
    "\n",
    "    Xây dựng dictionary mã hóa:\n",
    "    D = {'đen':0,'vàng':1,'xanh':2,'đỏ':3,'hồng':4}\n",
    "\n",
    "    Trả về List mã hóa:\n",
    "    L_mahoa = [0, 1, 2, 1, 2, 3, 4]\n",
    "    ```"
   ]
  },
  {
   "cell_type": "code",
   "execution_count": null,
   "metadata": {},
   "outputs": [],
   "source": [
    "def encode_list(L):\n",
    "    # Tạo dictionary mã hóa\n",
    "    D = {}\n",
    "    encoded_list = []\n",
    "    current_code = 0\n",
    "    \n",
    "    for item in L:\n",
    "        if item not in D:\n",
    "            D[item] = current_code\n",
    "            current_code += 1\n",
    "        encoded_list.append(D[item])\n",
    "    \n",
    "    return D, encoded_list\n",
    "\n",
    "L = [\"đỏ\", \"cam\", \"vàng\", \"lục\", \"lam\", \"chàm\", \"tím\", \"đỏ\", \"lục\", \"cam\"]\n",
    "D, L_mahoa = encode_list(L)\n",
    "\n",
    "print(\"Dictionary mã hóa:\", D)\n",
    "print(\"List đã được mã hóa:\", L_mahoa)\n"
   ]
  },
  {
   "cell_type": "markdown",
   "metadata": {},
   "source": [
    "---"
   ]
  }
 ],
 "metadata": {
  "colab": {
   "authorship_tag": "ABX9TyOelhBBO7DINQ7b3uUiVhbi",
   "provenance": []
  },
  "kernelspec": {
   "display_name": "Python 3",
   "language": "python",
   "name": "python3"
  },
  "language_info": {
   "codemirror_mode": {
    "name": "ipython",
    "version": 3
   },
   "file_extension": ".py",
   "mimetype": "text/x-python",
   "name": "python",
   "nbconvert_exporter": "python",
   "pygments_lexer": "ipython3",
   "version": "3.12.0"
  }
 },
 "nbformat": 4,
 "nbformat_minor": 4
}
