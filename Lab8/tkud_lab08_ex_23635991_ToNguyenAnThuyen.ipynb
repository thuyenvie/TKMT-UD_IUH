{
 "cells": [
  {
   "cell_type": "markdown",
   "metadata": {},
   "source": [
    "# Lab08 - Bài tập"
   ]
  },
  {
   "cell_type": "markdown",
   "metadata": {},
   "source": [
    "### Bài 1\n",
    "\n",
    "Nghiên cứu mức thu nhập ($X$) và chi tiêu ($Y$) trong một tháng của một công ty. Khảo sát ngẫu nhiên 7 nhân viên, ta thu được bảng số liệu sau:\n",
    "\n",
    "| X            | 130     | 150      | 133      | 170      | 170      | 210      | 230      |\n",
    "| :----------: | :-----: | :------: | :------: | :------: | :------: | :------: | :------: |\n",
    "| **Y**        | **84**  | **120**  | **108**  | **130**  | **130**  | **150**  | **160**  |\n",
    "\n",
    "\n",
    "a. Dựa vào bảng dữ liệu trên cho biết có xây dựng được mô hình hồi quy hay không? Nếu có hãy xây dựng mô hình hồi quy để ước tính chi tiêu dựa theo thu nhập\n",
    "\n",
    "b. Dự đoán mức chi tiêu của nhân viên công ty trên nếu biết thu nhập là 200$"
   ]
  },
  {
   "cell_type": "code",
   "execution_count": 1,
   "metadata": {},
   "outputs": [],
   "source": [
    "import numpy as np\n",
    "import matplotlib.pyplot as plt\n",
    "import statsmodels.api as sm\n",
    "import pandas as pd"
   ]
  },
  {
   "cell_type": "code",
   "execution_count": 2,
   "metadata": {},
   "outputs": [],
   "source": [
    "#1a\n",
    "x = np.array([130, 150, 133, 170, 170, 210, 230])\n",
    "y = np.array([84, 120, 108, 130, 130, 150, 160])"
   ]
  },
  {
   "cell_type": "code",
   "execution_count": 3,
   "metadata": {},
   "outputs": [
    {
     "data": {
      "image/png": "[encoded data removed]",
      "text/plain": [
       "<Figure size 640x480 with 1 Axes>"
      ]
     },
     "metadata": {},
     "output_type": "display_data"
    }
   ],
   "source": [
    "plt.plot(x, y, 'o')\n",
    "plt.axis([120, 240, 80, 165])\n",
    "plt.show()"
   ]
  },
  {
   "cell_type": "code",
   "execution_count": 4,
   "metadata": {},
   "outputs": [
    {
     "data": {
      "text/plain": [
       "array([[1.        , 0.94705241],\n",
       "       [0.94705241, 1.        ]])"
      ]
     },
     "execution_count": 4,
     "metadata": {},
     "output_type": "execute_result"
    }
   ],
   "source": [
    "np.corrcoef(x, y)"
   ]
  },
  {
   "cell_type": "code",
   "execution_count": 5,
   "metadata": {},
   "outputs": [
    {
     "name": "stdout",
     "output_type": "stream",
     "text": [
      "Tử số: 5466.0\n",
      "Mẫu số: 8567.714285714286\n",
      "B1= 0.6379764564644679\n",
      "B0 = 17.270583919698552\n",
      "Mô hình hồi quy tuyến tính y = 17.2706 + 0.638x\n"
     ]
    }
   ],
   "source": [
    "tu = sum((x - x.mean()) * (y - y.mean()))\n",
    "print(\"Tử số:\", tu)\n",
    "\n",
    "mau = sum((x - x.mean()) * (x - x.mean()))\n",
    "print(\"Mẫu số:\", mau)\n",
    "\n",
    "b1 = tu / mau\n",
    "print('B1=', b1)\n",
    "\n",
    "b0 = y.mean() - b1 * x.mean()\n",
    "print(\"B0 =\", b0)\n",
    "\n",
    "print(f\"Mô hình hồi quy tuyến tính y = {b0.round(4)} + {b1.round(4)}x\")"
   ]
  },
  {
   "cell_type": "code",
   "execution_count": 67,
   "metadata": {},
   "outputs": [
    {
     "name": "stdout",
     "output_type": "stream",
     "text": [
      "Chi tiêu: 144.87060000000002\n"
     ]
    }
   ],
   "source": [
    "#b dự đoán mức chi tiêu của nhân viên khi biết thu nhập là 200$\n",
    "model = sm.formula.ols('y~x', data=pd.DataFrame({'x': x, 'y':y})).fit()\n",
    "model.params\n",
    "print(\"Chi tiêu:\", 17.2706 + 0.638 * 200)"
   ]
  },
  {
   "cell_type": "markdown",
   "metadata": {},
   "source": [
    "### Bài 2\n",
    "\n",
    "Tiến hành nghiên cứu mối quan hệ giữa:\n",
    "\n",
    "- X: giá bán kẻ của thịt gà (nghìn/kg) \n",
    "- Y: lượng thịt gà tiêu thụ (kg/tháng)\n",
    "\n",
    "Dữ liệu thu được gồm 10 tháng như sau:\n",
    "\n",
    "| X            | 35       | 40       | 45       | 40       | 38       | 40       | 45       | 30       | 42       | 38       |\n",
    "| :----------: | :------: | :------: | :------: | :------: | :------: | :------: | :------: | :------: | :------: | :------: |\n",
    "| **Y**        | **2.29** | **2.04** | **0.59** | **2.06** | **2.50** | **2.32** | **1.57** | **3.96** | **1.43** | **2.34** |\n",
    "\n",
    "\n",
    "a. Dựa vào bảng dữ liệu trên cho biết có xây dựng được mô hình hồi quy hay không? Nếu có hãy xây dựng mô hình hồi quy để ước tính lượng tiêu thụ thịt gà theo giá bán.\n",
    "\n",
    "b. Dự đoán lượng tiêu thụ khi giá bán lẻ là 41(kg/tháng)"
   ]
  },
  {
   "cell_type": "code",
   "execution_count": 69,
   "metadata": {},
   "outputs": [],
   "source": [
    "x = np.array([35, 40, 45, 40, 38, 40, 45, 30, 42, 38])\n",
    "y = np.array([2.29, 2.04, 0.59, 2.06, 2.50, 2.32, 1.57, 3.96, 1.43, 2.34])"
   ]
  },
  {
   "cell_type": "code",
   "execution_count": 70,
   "metadata": {},
   "outputs": [
    {
     "data": {
      "text/plain": [
       "array([[ 1.        , -0.91953287],\n",
       "       [-0.91953287,  1.        ]])"
      ]
     },
     "execution_count": 70,
     "metadata": {},
     "output_type": "execute_result"
    }
   ],
   "source": [
    "np.corrcoef(x, y)"
   ]
  },
  {
   "cell_type": "code",
   "execution_count": 73,
   "metadata": {},
   "outputs": [
    {
     "data": {
      "image/png": "[encoded data removed]",
      "text/plain": [
       "<Figure size 432x288 with 1 Axes>"
      ]
     },
     "metadata": {
      "needs_background": "light"
     },
     "output_type": "display_data"
    }
   ],
   "source": [
    "plt.plot(x, y, 'o')\n",
    "plt.show()"
   ]
  },
  {
   "cell_type": "code",
   "execution_count": 74,
   "metadata": {},
   "outputs": [
    {
     "name": "stdout",
     "output_type": "stream",
     "text": [
      "Tử số: -32.300000000000004\n",
      "Mẫu số: 182.10000000000002\n",
      "B1= -0.17737506864360242\n",
      "B0 = 9.080840197693576\n",
      "Mô hình hồi quy tuyến tính y = 9.0808 + -0.1774x\n"
     ]
    }
   ],
   "source": [
    "tu = sum((x - x.mean()) * (y - y.mean()))\n",
    "print(\"Tử số:\", tu)\n",
    "\n",
    "mau = sum((x - x.mean()) * (x - x.mean()))\n",
    "print(\"Mẫu số:\", mau)\n",
    "\n",
    "b1 = tu / mau\n",
    "print('B1=', b1)\n",
    "\n",
    "b0 = y.mean() - b1 * x.mean()\n",
    "print(\"B0 =\", b0)\n",
    "\n",
    "print(f\"Mô hình hồi quy tuyến tính y = {b0.round(4)} + {b1.round(4)}x\")"
   ]
  },
  {
   "cell_type": "code",
   "execution_count": 75,
   "metadata": {},
   "outputs": [
    {
     "name": "stdout",
     "output_type": "stream",
     "text": [
      "Dự đoán tiêu thụ khi giá bán lẻ là 41: 1.8073999999999995\n"
     ]
    }
   ],
   "source": [
    "#b>\n",
    "print(\"Dự đoán tiêu thụ khi giá bán lẻ là 41:\", 9.0808 - 0.1774 * 41)"
   ]
  },
  {
   "cell_type": "markdown",
   "metadata": {},
   "source": [
    "## Bài 3\n",
    "\n",
    "Dụa trên file dữ liệu `Advertising.csv` bạn hãy dự đoán doanh số bán hàng (`sales`) dựa trên số tiền chi cho các nền tảng tiếp thị khác nhau như `TV`, `Radio` và `Newspaper`\n",
    "\n",
    "a. Đọc file dữ liệu cho biết các thông tin cơ bản về dữ liệu: kích thước, dữ liệu có giá trị trống hay không, hiện các giá trị thống kê cơ bản của các thuộc tính.\n",
    "\n",
    "b. Để dự đoán doanh số bằng phương pháp hồi quy tuyến tính đơn giản (Simple Linear Regression) trước tiên cần lựa chọn một trong các thuộc tính còn lại. Theo bạn thuộc tính nào phù hợp để xây dựng mô hình hồi quy. Giải thích và minh họa bằng 2 cách\n",
    "\n",
    "c. Xây dụng phương trình hồi quy, trực quan mô hình (đường thẳng) tìm được. Theo bạn để đánh giá mô hình trên cần dùng đại lượng nào?"
   ]
  },
  {
   "cell_type": "code",
   "execution_count": 85,
   "metadata": {},
   "outputs": [
    {
     "name": "stdout",
     "output_type": "stream",
     "text": [
      "Kích thước dữ liệu:\n",
      " (200, 5)\n",
      "Kiểm tra giá trị trống:\n",
      " Unnamed: 0    0\n",
      "TV            0\n",
      "radio         0\n",
      "newspaper     0\n",
      "sales         0\n",
      "dtype: int64\n",
      "Các giá trị thống kê cơ bản:\n",
      "        Unnamed: 0          TV       radio   newspaper       sales\n",
      "count  200.000000  200.000000  200.000000  200.000000  200.000000\n",
      "mean   100.500000  147.042500   23.264000   30.554000   14.022500\n",
      "std     57.879185   85.854236   14.846809   21.778621    5.217457\n",
      "min      1.000000    0.700000    0.000000    0.300000    1.600000\n",
      "25%     50.750000   74.375000    9.975000   12.750000   10.375000\n",
      "50%    100.500000  149.750000   22.900000   25.750000   12.900000\n",
      "75%    150.250000  218.825000   36.525000   45.100000   17.400000\n",
      "max    200.000000  296.400000   49.600000  114.000000   27.000000\n"
     ]
    }
   ],
   "source": [
    "#a>\n",
    "data = pd.read_csv('Advertising.csv', header = 0)\n",
    "\n",
    "print(\"Kích thước dữ liệu:\\n\",data.shape)\n",
    "print(\"Kiểm tra giá trị trống:\\n\", data.isnull().sum())\n",
    "print(\"Các giá trị thống kê cơ bản:\\n\", data.describe())"
   ]
  },
  {
   "cell_type": "code",
   "execution_count": 86,
   "metadata": {},
   "outputs": [
    {
     "name": "stdout",
     "output_type": "stream",
     "text": [
      "Hệ số tương quan:\n",
      " Unnamed: 0   -0.051616\n",
      "TV            0.782224\n",
      "radio         0.576223\n",
      "newspaper     0.228299\n",
      "sales         1.000000\n",
      "Name: sales, dtype: float64\n"
     ]
    }
   ],
   "source": [
    "#b>\n",
    "#C1: Tính toán hệ số tương quan\n",
    "correlation = data.corr()\n",
    "print(\"Hệ số tương quan:\\n\", correlation['sales'])\n",
    "\n",
    "'''\n",
    "dựa vào hệ số tương quan, ta chọn thuộc tính 'TV' để xây dựng mô hình hồi quy. \n",
    "Vì nó hệ số tương quan cao nhất trong các thuộc tính\n",
    "'''"
   ]
  },
  {
   "cell_type": "code",
   "execution_count": 93,
   "metadata": {},
   "outputs": [
    {
     "data": {
      "image/png": "[encoded data removed]",
      "text/plain": [
       "<Figure size 864x288 with 3 Axes>"
      ]
     },
     "metadata": {
      "needs_background": "light"
     },
     "output_type": "display_data"
    },
    {
     "data": {
      "text/plain": [
       "\"\\nDựa vào biểu đồ phân tán, ta có thể thấy thuộc tính 'Tv' và thuộc tính 'sales's có mối quan hệ mạnh mẽ \\nvà có xu hướng tăng cao hơn so với các thuộc tính khác. Vì vậy có thể chọn thuộc tính 'Tv' để xây dựng\\nmô hình hồi quy\\n\""
      ]
     },
     "execution_count": 93,
     "metadata": {},
     "output_type": "execute_result"
    }
   ],
   "source": [
    "#C2 vẽ biểu đồ phân tán\n",
    "plt.figure(figsize=(12, 4))\n",
    "\n",
    "plt.subplot(1, 3, 1)\n",
    "plt.scatter(data['TV'], data['sales'])\n",
    "plt.title('Doanh số vs TV')\n",
    "plt.xlabel('Chi tiêu TV')\n",
    "plt.ylabel('Doanh số')\n",
    "\n",
    "plt.subplot(1, 3, 2)\n",
    "plt.scatter(data['radio'], data['sales'])\n",
    "plt.title('Doanh số vs Radio')\n",
    "plt.xlabel('Chi tiêu Radio')\n",
    "\n",
    "plt.subplot(1, 3, 3)\n",
    "plt.scatter(data['newspaper'], data['sales'])\n",
    "plt.title('Doanh số vs Newspaper')\n",
    "plt.xlabel('Chi tiêu Newspaper')\n",
    "\n",
    "plt.tight_layout()\n",
    "plt.show()\n",
    "\n",
    "'''\n",
    "Dựa vào biểu đồ phân tán, ta có thể thấy thuộc tính 'Tv' và thuộc tính 'sales's có mối quan hệ mạnh mẽ \n",
    "và có xu hướng tăng cao hơn so với các thuộc tính khác. Vì vậy có thể chọn thuộc tính 'Tv' để xây dựng\n",
    "mô hình hồi quy\n",
    "'''"
   ]
  },
  {
   "cell_type": "code",
   "execution_count": 95,
   "metadata": {},
   "outputs": [
    {
     "name": "stdout",
     "output_type": "stream",
     "text": [
      "                            OLS Regression Results                            \n",
      "==============================================================================\n",
      "Dep. Variable:                  sales   R-squared:                       0.612\n",
      "Model:                            OLS   Adj. R-squared:                  0.610\n",
      "Method:                 Least Squares   F-statistic:                     312.1\n",
      "Date:                Fri, 01 Nov 2024   Prob (F-statistic):           1.47e-42\n",
      "Time:                        14:30:59   Log-Likelihood:                -519.05\n",
      "No. Observations:                 200   AIC:                             1042.\n",
      "Df Residuals:                     198   BIC:                             1049.\n",
      "Df Model:                           1                                         \n",
      "Covariance Type:            nonrobust                                         \n",
      "==============================================================================\n",
      "                 coef    std err          t      P>|t|      [0.025      0.975]\n",
      "------------------------------------------------------------------------------\n",
      "const          7.0326      0.458     15.360      0.000       6.130       7.935\n",
      "TV             0.0475      0.003     17.668      0.000       0.042       0.053\n",
      "==============================================================================\n",
      "Omnibus:                        0.531   Durbin-Watson:                   1.935\n",
      "Prob(Omnibus):                  0.767   Jarque-Bera (JB):                0.669\n",
      "Skew:                          -0.089   Prob(JB):                        0.716\n",
      "Kurtosis:                       2.779   Cond. No.                         338.\n",
      "==============================================================================\n",
      "\n",
      "Notes:\n",
      "[1] Standard Errors assume that the covariance matrix of the errors is correctly specified.\n"
     ]
    },
    {
     "data": {
      "image/png": "[encoded data removed]",
      "text/plain": [
       "<Figure size 432x288 with 1 Axes>"
      ]
     },
     "metadata": {
      "needs_background": "light"
     },
     "output_type": "display_data"
    }
   ],
   "source": [
    "import statsmodels.api as sm\n",
    "\n",
    "# Xây dựng mô hình hồi quy\n",
    "X = data['TV']\n",
    "Y = data['sales']\n",
    "\n",
    "X = sm.add_constant(X)\n",
    "\n",
    "model = sm.OLS(Y, X).fit()\n",
    "\n",
    "print(model.summary())\n",
    "\n",
    "plt.scatter(data['TV'], data['sales'], label='Dữ liệu thực tế')\n",
    "plt.plot(data['TV'], model.predict(X), color='red', label='Đường hồi quy')\n",
    "plt.title('Hồi quy tuyến tính: Doanh số vs TV')\n",
    "plt.xlabel('Chi tiêu TV')\n",
    "plt.ylabel('Doanh số')\n",
    "plt.legend()\n",
    "plt.show()\n"
   ]
  },
  {
   "cell_type": "markdown",
   "metadata": {},
   "source": [
    "---"
   ]
  }
 ],
 "metadata": {
  "kernelspec": {
   "display_name": "Python 3",
   "language": "python",
   "name": "python3"
  },
  "language_info": {
   "codemirror_mode": {
    "name": "ipython",
    "version": 3
   },
   "file_extension": ".py",
   "mimetype": "text/x-python",
   "name": "python",
   "nbconvert_exporter": "python",
   "pygments_lexer": "ipython3",
   "version": "3.12.0"
  }
 },
 "nbformat": 4,
 "nbformat_minor": 4
}
